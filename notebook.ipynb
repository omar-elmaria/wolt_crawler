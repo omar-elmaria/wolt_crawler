{
 "cells": [
  {
   "cell_type": "code",
   "execution_count": 6,
   "metadata": {},
   "outputs": [],
   "source": [
    "import json\n",
    "import pandas as pd\n",
    "import re\n",
    "from google.cloud import bigquery"
   ]
  },
  {
   "cell_type": "code",
   "execution_count": 19,
   "metadata": {},
   "outputs": [],
   "source": [
    "with open(\"output_wolt_finland.json\", mode=\"r\", encoding=\"utf-8\") as f:\n",
    "    data = json.load(f)\n",
    "    df_data = pd.DataFrame(data)\n",
    "    f.close()"
   ]
  },
  {
   "cell_type": "code",
   "execution_count": 20,
   "metadata": {},
   "outputs": [],
   "source": [
    "df_data[\"delivery_time_min\"] = df_data[\"delivery_time\"].apply(lambda x: int(x.split(\"-\")[0]))\n",
    "df_data[\"delivery_time_max\"] = df_data[\"delivery_time\"].apply(lambda x: int(x.split(\"-\")[1]))\n",
    "df_data[\"delivery_fee_numeric\"] = df_data[\"delivery_fee\"].apply(lambda x: float('.'.join(re.findall(pattern=\"\\d+\", string=x))))\n",
    "df_data[\"scraping_timestamp\"] = df_data[\"scraping_timestamp\"].apply(lambda x: pd.to_datetime(x))"
   ]
  },
  {
   "cell_type": "code",
   "execution_count": 21,
   "metadata": {},
   "outputs": [
    {
     "name": "stdout",
     "output_type": "stream",
     "text": [
      "<class 'pandas.core.frame.DataFrame'>\n",
      "RangeIndex: 90 entries, 0 to 89\n",
      "Data columns (total 10 columns):\n",
      " #   Column                Non-Null Count  Dtype         \n",
      "---  ------                --------------  -----         \n",
      " 0   restaurant_name       90 non-null     object        \n",
      " 1   restaurant_subtitle   90 non-null     object        \n",
      " 2   delivery_time         90 non-null     object        \n",
      " 3   delivery_fee          90 non-null     object        \n",
      " 4   scraping_timestamp    90 non-null     datetime64[ns]\n",
      " 5   scraping_location     90 non-null     object        \n",
      " 6   scraping_country      90 non-null     object        \n",
      " 7   delivery_time_min     90 non-null     int64         \n",
      " 8   delivery_time_max     90 non-null     int64         \n",
      " 9   delivery_fee_numeric  90 non-null     float64       \n",
      "dtypes: datetime64[ns](1), float64(1), int64(2), object(6)\n",
      "memory usage: 7.2+ KB\n"
     ]
    }
   ],
   "source": [
    "df_data.info()"
   ]
  },
  {
   "cell_type": "code",
   "execution_count": 22,
   "metadata": {},
   "outputs": [
    {
     "name": "stderr",
     "output_type": "stream",
     "text": [
      "i:\\My Drive\\AUC Drive\\Entrepreneurial Path and Financial Freedom\\Freelancing\\scraping_gigs\\venv_scraping\\lib\\site-packages\\google\\auth\\_default.py:83: UserWarning: Your application has authenticated using end user credentials from Google Cloud SDK without a quota project. You might receive a \"quota exceeded\" or \"API not enabled\" error. We recommend you rerun `gcloud auth application-default login` and make sure a quota project is added. Or you can use service accounts instead. For more information about service accounts, see https://cloud.google.com/docs/authentication/\n",
      "  warnings.warn(_CLOUD_SDK_CREDENTIALS_WARNING)\n"
     ]
    },
    {
     "data": {
      "text/plain": [
       "LoadJob<project=dh-logistics-product-ops, location=US, id=cd8e1ca2-fc98-48a8-bcaf-50ac395a52db>"
      ]
     },
     "execution_count": 22,
     "metadata": {},
     "output_type": "execute_result"
    }
   ],
   "source": [
    "# Upload the data to bigquery\n",
    "client = bigquery.Client(project=\"dh-logistics-product-ops\")\n",
    "\n",
    "job_config = bigquery.LoadJobConfig(\n",
    "    schema = [\n",
    "        bigquery.SchemaField(\"restaurant_name\", \"STRING\"),\n",
    "        bigquery.SchemaField(\"restaurant_subtitle\", \"STRING\"),\n",
    "        bigquery.SchemaField(\"delivery_time\", \"STRING\"),\n",
    "        bigquery.SchemaField(\"delivery_fee\", \"STRING\"),\n",
    "        bigquery.SchemaField(\"scraping_timestamp\", \"TIMESTAMP\"),\n",
    "        bigquery.SchemaField(\"scraping_location\", \"STRING\"),\n",
    "        bigquery.SchemaField(\"scraping_country\", \"STRING\"),\n",
    "        bigquery.SchemaField(\"delivery_time_min\", \"INT64\"),\n",
    "        bigquery.SchemaField(\"delivery_time_max\", \"INT64\"),\n",
    "        bigquery.SchemaField(\"delivery_fee_numeric\", \"FLOAT64\"),\n",
    "    ]\n",
    ")\n",
    "job_config.write_disposition = bigquery.WriteDisposition.WRITE_APPEND\n",
    "\n",
    "client.load_table_from_dataframe(\n",
    "    dataframe=df_data,\n",
    "    destination=\"dh-logistics-product-ops.pricing.wolt_finland_crawler\",\n",
    "    job_config=job_config\n",
    ")"
   ]
  }
 ],
 "metadata": {
  "kernelspec": {
   "display_name": "venv_scraping",
   "language": "python",
   "name": "python3"
  },
  "language_info": {
   "codemirror_mode": {
    "name": "ipython",
    "version": 3
   },
   "file_extension": ".py",
   "mimetype": "text/x-python",
   "name": "python",
   "nbconvert_exporter": "python",
   "pygments_lexer": "ipython3",
   "version": "3.10.7"
  },
  "orig_nbformat": 4
 },
 "nbformat": 4,
 "nbformat_minor": 2
}
